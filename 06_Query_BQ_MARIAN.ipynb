{
 "cells": [
  {
   "cell_type": "markdown",
   "metadata": {},
   "source": [
    "COMPARATIVA DE CORTES ANTIGUOS CON NUEVOS"
   ]
  },
  {
   "cell_type": "code",
   "execution_count": null,
   "metadata": {},
   "outputs": [],
   "source": [
    "# version anterior bi-data-science-pilots:SCORING_MODELOS.segmentacion_clientes\n",
    "# version nueva    'bi-data-science-pilots.DESARROLLO.00segment_cortes'"
   ]
  },
  {
   "cell_type": "code",
   "execution_count": 1,
   "metadata": {},
   "outputs": [
    {
     "name": "stdout",
     "output_type": "stream",
     "text": [
      "CPU times: user 0 ns, sys: 0 ns, total: 0 ns\n",
      "Wall time: 7.87 µs\n",
      "CPU times: user 0 ns, sys: 0 ns, total: 0 ns\n",
      "Wall time: 8.34 µs\n"
     ]
    }
   ],
   "source": [
    "import pandas as pd\n",
    "import matplotlib.pyplot as plt  \n",
    "import statsmodels.api as sm\n",
    "import seaborn as sns\n",
    "\n",
    "### conexiones\n",
    "import sys\n",
    "sys.path.insert(0, \"/home/jupyter\")\n",
    "\n",
    "%time\n",
    "import ciphered_connections as connections\n",
    "import getpass\n",
    "from datetime import datetime\n",
    "\n",
    "# path = getpass.getpass(\"PATH: \")\n",
    "# key = getpass.getpass(\"KEY:  \")\n",
    "# iv = getpass.getpass(\"IV:   \")\n",
    "\n",
    "path = \"/home/jupyter/ciphered_connections/000543781.dta\"\n",
    "key = \"50bb801fa81378a538654b2b7076b223\"\n",
    "iv = \"9029080389AF47F5\"\n",
    "\n",
    "\n",
    "# path: /home/jupyter/ciphered_connections/000543781.dta  \n",
    "# key: 50bb801fa81378a538654b2b7076b223\n",
    "# iv: 9029080389AF47F5\n",
    "\n",
    "%time\n",
    "\n",
    "conexion_bq = connections.BigQueryConnection(\n",
    "    path_token = path, key = key, \n",
    "    iv = iv)\n",
    "datetime_str = datetime.now().strftime(\"%Y%m%d%H%M%S\")\n",
    "table = \"DATAMART.gcs_tabla_tiger_{0}\".format(datetime_str)\n",
    "bucket_object = \"gcs_file_tiger_{0}_*.csv\".format(datetime_str)\n",
    "bucket_name = 'nbamasmovil'"
   ]
  },
  {
   "cell_type": "code",
   "execution_count": null,
   "metadata": {},
   "outputs": [],
   "source": [
    "#  create table   `bi-data-science-pilots.DESARROLLO.TABLON_1P_SEG_PREVIA_v2_202006` as     \n",
    "#    select distinct fuga_real, count(PROBLEMAS_CALIDAD)  from (\n",
    "#    SELECT  a.*, \n",
    "#            #b.Bundle_Type,\n",
    "# --            b.Fecha_Predicion ,b.Modelo,\n",
    "#            #b.Decil,\n",
    "# --           b.Percentil,b.Propension,#b.VERSION , \n",
    "#            c.Target as fuga_real \n",
    "#     from    \n",
    "#             `bi-data-science-pilots.SCORING_MODELOS.segmentacion_clientes`  as a   left join\n",
    "\n",
    "# --            `bi-data-science-pilots.SCORING_MODELOS.SCORING_MODELOS_NBA` as b \n",
    "# --                  on cast(a.CUSTOMER_ID as string) =b.Customer_Id \n",
    "# --             LEFT JOIN \n",
    "#             `bi-data-science-pilots.EVALUACION_MODELOS.EVALUACION_MODELOS_NBA` AS c\n",
    "#                  on cast(a.CUSTOMER_ID as string) = CAST(c.Customer_Id as string)\n",
    "#     WHERE  \n",
    "#            A.EOP='202006' and\n",
    "#            # A.EOP ='202006' AND \n",
    "#           #  a.IS_CUST_BUND_MO_CURR = True and\n",
    "#           #a.IS_CUST_BUND_FMC_CURR = False and\n",
    "#            #(a.GDPR_NEVER_CALL = 0 or a.GDPR_NEVER_CALL is null) and\n",
    "#            a.BRAND_DS = 'YOIGO' and\n",
    "#            #a.NUM_SEGM_RESI_POST_CURR > 0 and \n",
    "#            #a.NUM_LINES_POST_CURR > 0 and \n",
    "# --            b.Mes_Datos='202006'  and  \n",
    "# --            b.Brand_ds='YOIGO' and b.Bundle_Type ='1P' and \n",
    "#             a.Bundle_Type ='1P' and \n",
    "# --          b.Segmento='RESIDENCIAL' and b.Mes_Datos='202006'  and \n",
    "# --            b.modelo='CHURN' and b.VERSION='2' and \n",
    "#             a.decil<3 and\n",
    "#            c.BRAND_DS = 'YOIGO' and c.Segmento='RESIDENCIAL' and \n",
    "#            c.Bundle_Type='1P' and c.Modelo='CHURN' and \n",
    "#            c.Mes_Datos='202006' and c.VERSION='2')\n",
    "#            as a \n",
    "#            where PROBLEMAS_CALIDAD=1\n",
    "#            group by fuga_real"
   ]
  },
  {
   "cell_type": "code",
   "execution_count": null,
   "metadata": {},
   "outputs": [],
   "source": [
    "create table   `bi-data-science-pilots.DESARROLLO.TABLON_1P_SEG_PREVIA_v4_202006` as     \n",
    "    select distinct fuga_real, count(PROBLEMAS_CALIDAD) as count from (\n",
    "    SELECT  a.*, \n",
    "            #b.Bundle_Type,\n",
    " --            b.Fecha_Predicion ,b.Modelo,\n",
    "            #b.Decil,\n",
    " --           b.Percentil,b.Propension,#b.VERSION , \n",
    "            c.Target as fuga_real \n",
    "     from    \n",
    "             `bi-data-science-pilots.SCORING_MODELOS.segmentacion_clientes`  as a   left join\n",
    " --            `bi-data-science-pilots.SCORING_MODELOS.SCORING_MODELOS_NBA` as b \n",
    " --                  on cast(a.CUSTOMER_ID as string) =b.Customer_Id \n",
    " --             LEFT JOIN \n",
    "             `bi-data-science-pilots.EVALUACION_MODELOS.EVALUACION_MODELOS_NBA` AS c\n",
    "                  on cast(a.CUSTOMER_ID as string) = CAST(c.Customer_Id as string)\n",
    "     WHERE  \n",
    "            A.EOP='202006' and\n",
    "            # A.EOP ='202006' AND \n",
    "           #  a.IS_CUST_BUND_MO_CURR = True and\n",
    "           #a.IS_CUST_BUND_FMC_CURR = False and\n",
    "            #(a.GDPR_NEVER_CALL = 0 or a.GDPR_NEVER_CALL is null) and\n",
    "            a.BRAND_DS = 'YOIGO' and\n",
    "           #a.NUM_SEGM_RESI_POST_CURR > 0 and \n",
    "           #a.NUM_LINES_POST_CURR > 0 and \n",
    " --            b.Mes_Datos='202006'  and  \n",
    " --            b.Brand_ds='YOIGO' and b.Bundle_Type ='1P' and \n",
    "             a.Bundle_Type ='1P' and \n",
    " --          b.Segmento='RESIDENCIAL' and b.Mes_Datos='202006'  and \n",
    " --            b.modelo='CHURN' and b.VERSION='2' and \n",
    "             a.decil<3 and\n",
    "            c.BRAND_DS = 'YOIGO' and c.Segmento='RESIDENCIAL' and \n",
    "            c.Bundle_Type='1P' and c.Modelo='CHURN' and \n",
    "            c.Mes_Datos='202006' and c.VERSION='2')\n",
    "            as a \n",
    "            where PROBLEMAS_CALIDAD=1\n",
    "            group by fuga_real\n",
    "            "
   ]
  },
  {
   "cell_type": "code",
   "execution_count": null,
   "metadata": {},
   "outputs": [],
   "source": []
  },
  {
   "cell_type": "code",
   "execution_count": null,
   "metadata": {},
   "outputs": [],
   "source": []
  }
 ],
 "metadata": {
  "environment": {
   "name": "common-cpu.m46",
   "type": "gcloud",
   "uri": "gcr.io/deeplearning-platform-release/base-cpu:m46"
  },
  "kernelspec": {
   "display_name": "Python 3",
   "language": "python",
   "name": "python3"
  },
  "language_info": {
   "codemirror_mode": {
    "name": "ipython",
    "version": 3
   },
   "file_extension": ".py",
   "mimetype": "text/x-python",
   "name": "python",
   "nbconvert_exporter": "python",
   "pygments_lexer": "ipython3",
   "version": "3.7.6"
  }
 },
 "nbformat": 4,
 "nbformat_minor": 4
}
